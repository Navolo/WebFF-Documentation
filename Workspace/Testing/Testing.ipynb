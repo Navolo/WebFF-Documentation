{
 "cells": [
  {
   "cell_type": "code",
   "execution_count": 2,
   "metadata": {
    "collapsed": false
   },
   "outputs": [],
   "source": [
    "import CoarseGrained_Excel_to_XML as EtX\n",
    "import WebFF as WF\n",
    "\n",
    "EtX.excel_xml(\"WebFF-CoarseGrained-DataTemplate.xlsx\",\"CoarseGrained-Test.xml\")\n",
    "#WF.XMLToTableBondPotential_Tabular(\"SuperTest_01.xml\",\"sample.table\")\n",
    "#WF.XMLToTableAnglePotential_Tabular(\"SuperTest_01.xml\",\"sampleA.table\")\n",
    "#WF.XMLToTableDihedralPotential_Tabular(\"SuperTest_01.xml\",\"sampleB.table\")\n",
    "#WF.XMLToTableNonBondPotential_Tabular(\"SuperTest_01.xml\",\"sampleC.table\")"
   ]
  }
 ],
 "metadata": {
  "kernelspec": {
   "display_name": "Python 2",
   "language": "python",
   "name": "python2"
  },
  "language_info": {
   "codemirror_mode": {
    "name": "ipython",
    "version": 2
   },
   "file_extension": ".py",
   "mimetype": "text/x-python",
   "name": "python",
   "nbconvert_exporter": "python",
   "pygments_lexer": "ipython2",
   "version": "2.7.13"
  }
 },
 "nbformat": 4,
 "nbformat_minor": 2
}
